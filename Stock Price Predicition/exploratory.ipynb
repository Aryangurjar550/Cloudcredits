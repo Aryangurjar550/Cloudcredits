{
 "cells": [
  {
   "cell_type": "markdown",
   "metadata": {},
   "source": [
    "# Exploratory Notebook\n",
    "Use this to explore your ticker, visualize trends, and sanity-check the training pipeline.\n",
    "Install requirements first, then you can import from `src`.\n"
   ]
  }
 ],
 "metadata": {
  "kernelspec": {
   "display_name": "Python 3",
   "language": "python",
   "name": "python3"
  },
  "language_info": {
   "name": "python"
  }
 },
 "nbformat": 4,
 "nbformat_minor": 5
}