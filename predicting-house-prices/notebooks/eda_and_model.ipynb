{
 "cells": [
  {
   "cell_type": "code",
   "execution_count": null,
   "metadata": {},
   "outputs": [],
   "source": [
    "import pandas as pd\n",
    "from sklearn.model_selection import train_test_split\n",
    "from src.data_loader import load_data\n",
    "from src.model import train_model\n",
    "from src.evaluate import evaluate_model\n",
    "\n",
    "data = load_data()\n",
    "X = data.drop(\"PRICE\", axis=1)\n",
    "y = data[\"PRICE\"]\n",
    "\n",
    "X_train, X_test, y_train, y_test = train_test_split(X, y, test_size=0.2, random_state=42)\n",
    "\n",
    "model = train_model(X_train, y_train)\n",
    "mse, r2 = evaluate_model(model, X_test, y_test)\n",
    "\n",
    "print(\"MSE:\", mse)\n",
    "print(\"R² Score:\", r2)"
   ]
  }
 ],
 "metadata": {},
 "nbformat": 4,
 "nbformat_minor": 2
}
